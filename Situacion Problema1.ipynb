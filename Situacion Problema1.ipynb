{
 "cells": [
  {
   "cell_type": "markdown",
   "id": "41921326-2b2f-49c3-92f7-a53cc4ad1f76",
   "metadata": {},
   "source": [
    "## Situacion Problema\n",
    "Priscila de la Peña Schott\n"
   ]
  },
  {
   "cell_type": "markdown",
   "id": "3f002201-537f-489b-aa89-3df0b69ed422",
   "metadata": {},
   "source": [
    "Se comienza por importar todas las librerias."
   ]
  },
  {
   "cell_type": "code",
   "execution_count": 1,
   "id": "592a6786-4706-471f-a91c-dc3a011aba05",
   "metadata": {},
   "outputs": [],
   "source": [
    "import numpy as np\n",
    "import pandas as pd\n",
    "import scipy.stats as stats\n",
    "import matplotlib as mpl\n",
    "import matplotlib.pyplot as plt \n"
   ]
  },
  {
   "cell_type": "markdown",
   "id": "79f7abcf-55e6-459c-9a44-f5f217057afa",
   "metadata": {},
   "source": [
    "Se manda llamar la base de datos que se va a utilizar para este entregable.\n",
    "Esta base de datos con el nombre de  \"Times Higher Education World University Rankings” analiza el ranking a nivel mundial de 70 universidades de los años 2011-2016. "
   ]
  },
  {
   "cell_type": "code",
   "execution_count": 2,
   "id": "a26f5572-e2f5-40e8-a39b-a7c4688717c1",
   "metadata": {},
   "outputs": [
    {
     "data": {
      "text/html": [
       "<div>\n",
       "<style scoped>\n",
       "    .dataframe tbody tr th:only-of-type {\n",
       "        vertical-align: middle;\n",
       "    }\n",
       "\n",
       "    .dataframe tbody tr th {\n",
       "        vertical-align: top;\n",
       "    }\n",
       "\n",
       "    .dataframe thead th {\n",
       "        text-align: right;\n",
       "    }\n",
       "</style>\n",
       "<table border=\"1\" class=\"dataframe\">\n",
       "  <thead>\n",
       "    <tr style=\"text-align: right;\">\n",
       "      <th></th>\n",
       "      <th>world_rank</th>\n",
       "      <th>university_name</th>\n",
       "      <th>country</th>\n",
       "      <th>teaching</th>\n",
       "      <th>international</th>\n",
       "      <th>research</th>\n",
       "      <th>citations</th>\n",
       "      <th>income</th>\n",
       "      <th>total_score</th>\n",
       "      <th>num_students</th>\n",
       "      <th>student_staff_ratio</th>\n",
       "      <th>international_students</th>\n",
       "      <th>female_male_ratio</th>\n",
       "      <th>year</th>\n",
       "      <th>Int Students</th>\n",
       "    </tr>\n",
       "  </thead>\n",
       "  <tbody>\n",
       "    <tr>\n",
       "      <th>0</th>\n",
       "      <td>1</td>\n",
       "      <td>Harvard University</td>\n",
       "      <td>United States of America</td>\n",
       "      <td>99.7</td>\n",
       "      <td>72.4</td>\n",
       "      <td>98.7</td>\n",
       "      <td>98.8</td>\n",
       "      <td>34.5</td>\n",
       "      <td>96.1</td>\n",
       "      <td>20152.0</td>\n",
       "      <td>8.9</td>\n",
       "      <td>25%</td>\n",
       "      <td>NaN</td>\n",
       "      <td>2011</td>\n",
       "      <td>5038.00</td>\n",
       "    </tr>\n",
       "    <tr>\n",
       "      <th>1</th>\n",
       "      <td>2</td>\n",
       "      <td>California Institute of Technology</td>\n",
       "      <td>United States of America</td>\n",
       "      <td>97.7</td>\n",
       "      <td>54.6</td>\n",
       "      <td>98.0</td>\n",
       "      <td>99.9</td>\n",
       "      <td>83.7</td>\n",
       "      <td>96</td>\n",
       "      <td>2243.0</td>\n",
       "      <td>6.9</td>\n",
       "      <td>27%</td>\n",
       "      <td>33 : 67</td>\n",
       "      <td>2011</td>\n",
       "      <td>605.61</td>\n",
       "    </tr>\n",
       "    <tr>\n",
       "      <th>2</th>\n",
       "      <td>3</td>\n",
       "      <td>Massachusetts Institute of Technology</td>\n",
       "      <td>United States of America</td>\n",
       "      <td>97.8</td>\n",
       "      <td>82.3</td>\n",
       "      <td>91.4</td>\n",
       "      <td>99.9</td>\n",
       "      <td>87.5</td>\n",
       "      <td>95.6</td>\n",
       "      <td>11074.0</td>\n",
       "      <td>9.0</td>\n",
       "      <td>33%</td>\n",
       "      <td>37 : 63</td>\n",
       "      <td>2011</td>\n",
       "      <td>3654.42</td>\n",
       "    </tr>\n",
       "    <tr>\n",
       "      <th>3</th>\n",
       "      <td>4</td>\n",
       "      <td>Stanford University</td>\n",
       "      <td>United States of America</td>\n",
       "      <td>98.3</td>\n",
       "      <td>29.5</td>\n",
       "      <td>98.1</td>\n",
       "      <td>99.2</td>\n",
       "      <td>64.3</td>\n",
       "      <td>94.3</td>\n",
       "      <td>15596.0</td>\n",
       "      <td>7.8</td>\n",
       "      <td>22%</td>\n",
       "      <td>42:58:00</td>\n",
       "      <td>2011</td>\n",
       "      <td>3431.12</td>\n",
       "    </tr>\n",
       "    <tr>\n",
       "      <th>4</th>\n",
       "      <td>5</td>\n",
       "      <td>Princeton University</td>\n",
       "      <td>United States of America</td>\n",
       "      <td>90.9</td>\n",
       "      <td>70.3</td>\n",
       "      <td>95.4</td>\n",
       "      <td>99.9</td>\n",
       "      <td>-</td>\n",
       "      <td>94.2</td>\n",
       "      <td>7929.0</td>\n",
       "      <td>8.4</td>\n",
       "      <td>27%</td>\n",
       "      <td>45:55:00</td>\n",
       "      <td>2011</td>\n",
       "      <td>2140.83</td>\n",
       "    </tr>\n",
       "    <tr>\n",
       "      <th>5</th>\n",
       "      <td>6</td>\n",
       "      <td>University of Cambridge</td>\n",
       "      <td>United Kingdom</td>\n",
       "      <td>90.5</td>\n",
       "      <td>77.7</td>\n",
       "      <td>94.1</td>\n",
       "      <td>94.0</td>\n",
       "      <td>57</td>\n",
       "      <td>91.2</td>\n",
       "      <td>18812.0</td>\n",
       "      <td>11.8</td>\n",
       "      <td>34%</td>\n",
       "      <td>46:54:00</td>\n",
       "      <td>2011</td>\n",
       "      <td>6396.08</td>\n",
       "    </tr>\n",
       "    <tr>\n",
       "      <th>6</th>\n",
       "      <td>6</td>\n",
       "      <td>University of Oxford</td>\n",
       "      <td>United Kingdom</td>\n",
       "      <td>88.2</td>\n",
       "      <td>77.2</td>\n",
       "      <td>93.9</td>\n",
       "      <td>95.1</td>\n",
       "      <td>73.5</td>\n",
       "      <td>91.2</td>\n",
       "      <td>19919.0</td>\n",
       "      <td>11.6</td>\n",
       "      <td>34%</td>\n",
       "      <td>46:54:00</td>\n",
       "      <td>2011</td>\n",
       "      <td>6772.46</td>\n",
       "    </tr>\n",
       "    <tr>\n",
       "      <th>7</th>\n",
       "      <td>8</td>\n",
       "      <td>University of California, Berkeley</td>\n",
       "      <td>United States of America</td>\n",
       "      <td>84.2</td>\n",
       "      <td>39.6</td>\n",
       "      <td>99.3</td>\n",
       "      <td>97.8</td>\n",
       "      <td>-</td>\n",
       "      <td>91.1</td>\n",
       "      <td>36186.0</td>\n",
       "      <td>16.4</td>\n",
       "      <td>15%</td>\n",
       "      <td>50:50:00</td>\n",
       "      <td>2011</td>\n",
       "      <td>5427.90</td>\n",
       "    </tr>\n",
       "    <tr>\n",
       "      <th>8</th>\n",
       "      <td>9</td>\n",
       "      <td>Imperial College London</td>\n",
       "      <td>United Kingdom</td>\n",
       "      <td>89.2</td>\n",
       "      <td>90</td>\n",
       "      <td>94.5</td>\n",
       "      <td>88.3</td>\n",
       "      <td>92.9</td>\n",
       "      <td>90.6</td>\n",
       "      <td>15060.0</td>\n",
       "      <td>11.7</td>\n",
       "      <td>51%</td>\n",
       "      <td>37 : 63</td>\n",
       "      <td>2011</td>\n",
       "      <td>7680.60</td>\n",
       "    </tr>\n",
       "    <tr>\n",
       "      <th>9</th>\n",
       "      <td>10</td>\n",
       "      <td>Yale University</td>\n",
       "      <td>United States of America</td>\n",
       "      <td>92.1</td>\n",
       "      <td>59.2</td>\n",
       "      <td>89.7</td>\n",
       "      <td>91.5</td>\n",
       "      <td>-</td>\n",
       "      <td>89.5</td>\n",
       "      <td>11751.0</td>\n",
       "      <td>4.4</td>\n",
       "      <td>20%</td>\n",
       "      <td>50:50:00</td>\n",
       "      <td>2011</td>\n",
       "      <td>2350.20</td>\n",
       "    </tr>\n",
       "  </tbody>\n",
       "</table>\n",
       "</div>"
      ],
      "text/plain": [
       "  world_rank                        university_name                   country  \\\n",
       "0          1                     Harvard University  United States of America   \n",
       "1          2     California Institute of Technology  United States of America   \n",
       "2          3  Massachusetts Institute of Technology  United States of America   \n",
       "3          4                    Stanford University  United States of America   \n",
       "4          5                   Princeton University  United States of America   \n",
       "5          6                University of Cambridge            United Kingdom   \n",
       "6          6                   University of Oxford            United Kingdom   \n",
       "7          8     University of California, Berkeley  United States of America   \n",
       "8          9                Imperial College London            United Kingdom   \n",
       "9         10                        Yale University  United States of America   \n",
       "\n",
       "   teaching international  research  citations income total_score  \\\n",
       "0      99.7          72.4      98.7       98.8   34.5        96.1   \n",
       "1      97.7          54.6      98.0       99.9   83.7          96   \n",
       "2      97.8          82.3      91.4       99.9   87.5        95.6   \n",
       "3      98.3          29.5      98.1       99.2   64.3        94.3   \n",
       "4      90.9          70.3      95.4       99.9      -        94.2   \n",
       "5      90.5          77.7      94.1       94.0     57        91.2   \n",
       "6      88.2          77.2      93.9       95.1   73.5        91.2   \n",
       "7      84.2          39.6      99.3       97.8      -        91.1   \n",
       "8      89.2            90      94.5       88.3   92.9        90.6   \n",
       "9      92.1          59.2      89.7       91.5      -        89.5   \n",
       "\n",
       "   num_students  student_staff_ratio international_students female_male_ratio  \\\n",
       "0       20152.0                  8.9                    25%               NaN   \n",
       "1        2243.0                  6.9                    27%           33 : 67   \n",
       "2       11074.0                  9.0                    33%           37 : 63   \n",
       "3       15596.0                  7.8                    22%          42:58:00   \n",
       "4        7929.0                  8.4                    27%          45:55:00   \n",
       "5       18812.0                 11.8                    34%          46:54:00   \n",
       "6       19919.0                 11.6                    34%          46:54:00   \n",
       "7       36186.0                 16.4                    15%          50:50:00   \n",
       "8       15060.0                 11.7                    51%           37 : 63   \n",
       "9       11751.0                  4.4                    20%          50:50:00   \n",
       "\n",
       "   year  Int Students  \n",
       "0  2011       5038.00  \n",
       "1  2011        605.61  \n",
       "2  2011       3654.42  \n",
       "3  2011       3431.12  \n",
       "4  2011       2140.83  \n",
       "5  2011       6396.08  \n",
       "6  2011       6772.46  \n",
       "7  2011       5427.90  \n",
       "8  2011       7680.60  \n",
       "9  2011       2350.20  "
      ]
     },
     "execution_count": 2,
     "metadata": {},
     "output_type": "execute_result"
    }
   ],
   "source": [
    "df = pd.read_csv('timesData2.csv') \n",
    "df.head(10)"
   ]
  },
  {
   "cell_type": "markdown",
   "id": "34f52af3-ff90-4c95-9792-61a646ade038",
   "metadata": {},
   "source": [
    "1. Descripcion de Datos\n",
    "\n",
    "Se observan 15 variables con su respectivo tipo y un total de 2603 datos. Como se puede ver existen:\n",
    "- 8 variables de tipo 'object'\n",
    "- 6 variables de tipo 'float64'\n",
    "- 1 variable de int64"
   ]
  },
  {
   "cell_type": "code",
   "execution_count": 3,
   "id": "aade8654-e408-45b5-83f8-063958f6e8fb",
   "metadata": {},
   "outputs": [
    {
     "name": "stdout",
     "output_type": "stream",
     "text": [
      "<class 'pandas.core.frame.DataFrame'>\n",
      "RangeIndex: 2603 entries, 0 to 2602\n",
      "Data columns (total 15 columns):\n",
      " #   Column                  Non-Null Count  Dtype  \n",
      "---  ------                  --------------  -----  \n",
      " 0   world_rank              2603 non-null   object \n",
      " 1   university_name         2603 non-null   object \n",
      " 2   country                 2603 non-null   object \n",
      " 3   teaching                2603 non-null   float64\n",
      " 4   international           2603 non-null   object \n",
      " 5   research                2603 non-null   float64\n",
      " 6   citations               2603 non-null   float64\n",
      " 7   income                  2603 non-null   object \n",
      " 8   total_score             2603 non-null   object \n",
      " 9   num_students            2544 non-null   float64\n",
      " 10  student_staff_ratio     2544 non-null   float64\n",
      " 11  international_students  2536 non-null   object \n",
      " 12  female_male_ratio       2370 non-null   object \n",
      " 13  year                    2603 non-null   int64  \n",
      " 14  Int Students            2603 non-null   float64\n",
      "dtypes: float64(6), int64(1), object(8)\n",
      "memory usage: 305.2+ KB\n"
     ]
    }
   ],
   "source": [
    "df.info()"
   ]
  },
  {
   "cell_type": "code",
   "execution_count": 4,
   "id": "a7cf3b34-b464-4067-9af3-c0f9d7632a97",
   "metadata": {},
   "outputs": [
    {
     "data": {
      "text/html": [
       "<div>\n",
       "<style scoped>\n",
       "    .dataframe tbody tr th:only-of-type {\n",
       "        vertical-align: middle;\n",
       "    }\n",
       "\n",
       "    .dataframe tbody tr th {\n",
       "        vertical-align: top;\n",
       "    }\n",
       "\n",
       "    .dataframe thead th {\n",
       "        text-align: right;\n",
       "    }\n",
       "</style>\n",
       "<table border=\"1\" class=\"dataframe\">\n",
       "  <thead>\n",
       "    <tr style=\"text-align: right;\">\n",
       "      <th></th>\n",
       "      <th>teaching</th>\n",
       "      <th>research</th>\n",
       "      <th>citations</th>\n",
       "      <th>num_students</th>\n",
       "      <th>student_staff_ratio</th>\n",
       "      <th>year</th>\n",
       "      <th>Int Students</th>\n",
       "    </tr>\n",
       "  </thead>\n",
       "  <tbody>\n",
       "    <tr>\n",
       "      <th>count</th>\n",
       "      <td>2603.000000</td>\n",
       "      <td>2603.000000</td>\n",
       "      <td>2603.000000</td>\n",
       "      <td>2544.000000</td>\n",
       "      <td>2544.000000</td>\n",
       "      <td>2603.000000</td>\n",
       "      <td>2603.000000</td>\n",
       "    </tr>\n",
       "    <tr>\n",
       "      <th>mean</th>\n",
       "      <td>37.801498</td>\n",
       "      <td>35.910257</td>\n",
       "      <td>60.921629</td>\n",
       "      <td>23873.758648</td>\n",
       "      <td>18.445283</td>\n",
       "      <td>2014.075682</td>\n",
       "      <td>3268.164437</td>\n",
       "    </tr>\n",
       "    <tr>\n",
       "      <th>std</th>\n",
       "      <td>17.604218</td>\n",
       "      <td>21.254805</td>\n",
       "      <td>23.073219</td>\n",
       "      <td>17675.946877</td>\n",
       "      <td>11.458698</td>\n",
       "      <td>1.685733</td>\n",
       "      <td>2693.174263</td>\n",
       "    </tr>\n",
       "    <tr>\n",
       "      <th>min</th>\n",
       "      <td>9.900000</td>\n",
       "      <td>2.900000</td>\n",
       "      <td>1.200000</td>\n",
       "      <td>462.000000</td>\n",
       "      <td>0.600000</td>\n",
       "      <td>2011.000000</td>\n",
       "      <td>0.000000</td>\n",
       "    </tr>\n",
       "    <tr>\n",
       "      <th>25%</th>\n",
       "      <td>24.700000</td>\n",
       "      <td>19.600000</td>\n",
       "      <td>45.500000</td>\n",
       "      <td>12637.750000</td>\n",
       "      <td>11.975000</td>\n",
       "      <td>2013.000000</td>\n",
       "      <td>1289.590000</td>\n",
       "    </tr>\n",
       "    <tr>\n",
       "      <th>50%</th>\n",
       "      <td>33.900000</td>\n",
       "      <td>30.500000</td>\n",
       "      <td>62.500000</td>\n",
       "      <td>20851.000000</td>\n",
       "      <td>16.100000</td>\n",
       "      <td>2014.000000</td>\n",
       "      <td>2678.200000</td>\n",
       "    </tr>\n",
       "    <tr>\n",
       "      <th>75%</th>\n",
       "      <td>46.400000</td>\n",
       "      <td>47.250000</td>\n",
       "      <td>79.050000</td>\n",
       "      <td>29991.000000</td>\n",
       "      <td>21.500000</td>\n",
       "      <td>2016.000000</td>\n",
       "      <td>4639.830000</td>\n",
       "    </tr>\n",
       "    <tr>\n",
       "      <th>max</th>\n",
       "      <td>99.700000</td>\n",
       "      <td>99.400000</td>\n",
       "      <td>100.000000</td>\n",
       "      <td>379231.000000</td>\n",
       "      <td>162.600000</td>\n",
       "      <td>2016.000000</td>\n",
       "      <td>18317.520000</td>\n",
       "    </tr>\n",
       "  </tbody>\n",
       "</table>\n",
       "</div>"
      ],
      "text/plain": [
       "          teaching     research    citations   num_students  \\\n",
       "count  2603.000000  2603.000000  2603.000000    2544.000000   \n",
       "mean     37.801498    35.910257    60.921629   23873.758648   \n",
       "std      17.604218    21.254805    23.073219   17675.946877   \n",
       "min       9.900000     2.900000     1.200000     462.000000   \n",
       "25%      24.700000    19.600000    45.500000   12637.750000   \n",
       "50%      33.900000    30.500000    62.500000   20851.000000   \n",
       "75%      46.400000    47.250000    79.050000   29991.000000   \n",
       "max      99.700000    99.400000   100.000000  379231.000000   \n",
       "\n",
       "       student_staff_ratio         year  Int Students  \n",
       "count          2544.000000  2603.000000   2603.000000  \n",
       "mean             18.445283  2014.075682   3268.164437  \n",
       "std              11.458698     1.685733   2693.174263  \n",
       "min               0.600000  2011.000000      0.000000  \n",
       "25%              11.975000  2013.000000   1289.590000  \n",
       "50%              16.100000  2014.000000   2678.200000  \n",
       "75%              21.500000  2016.000000   4639.830000  \n",
       "max             162.600000  2016.000000  18317.520000  "
      ]
     },
     "execution_count": 4,
     "metadata": {},
     "output_type": "execute_result"
    }
   ],
   "source": [
    "df.describe()"
   ]
  },
  {
   "cell_type": "markdown",
   "id": "70443a79-1757-4b84-bfea-341a19a9dfea",
   "metadata": {},
   "source": [
    "Las variables importantes son: teaching, research y citations ya que son numericas. Estas siguen una escala del 1-100 por lo cual se pueden estandarizar. \n"
   ]
  },
  {
   "cell_type": "code",
   "execution_count": 5,
   "id": "d3510200-1f52-4aaf-b266-b638cea974f7",
   "metadata": {},
   "outputs": [
    {
     "data": {
      "image/png": "[encoded data removed]",
      "text/plain": [
       "<Figure size 432x288 with 1 Axes>"
      ]
     },
     "metadata": {
      "needs_background": "light"
     },
     "output_type": "display_data"
    }
   ],
   "source": [
    "df['teaching'].plot(kind = 'hist')\n",
    "plt.title('Teaching', fontsize = 16)\n",
    "plt. xticks(fontsize=16, rotation=45)\n",
    "plt.show()"
   ]
  },
  {
   "cell_type": "markdown",
   "id": "443cec16-8a96-459a-b2fa-9b323cdddbed",
   "metadata": {},
   "source": [
    "Por medio del histograma de la variable \"teaching\" se observa el comportamiento y distribución de los datos. Es una distribución sesgada a la derecha."
   ]
  },
  {
   "cell_type": "code",
   "execution_count": 6,
   "id": "7d7b5e39-5733-4034-81e8-6b253b8a4f72",
   "metadata": {},
   "outputs": [
    {
     "data": {
      "image/png": "[encoded data removed]",
      "text/plain": [
       "<Figure size 432x288 with 1 Axes>"
      ]
     },
     "metadata": {
      "needs_background": "light"
     },
     "output_type": "display_data"
    }
   ],
   "source": [
    "df['research'].plot(kind = 'hist')\n",
    "plt.title('Research', fontsize = 16)\n",
    "plt. xticks(fontsize=16, rotation=45)\n",
    "plt.show()"
   ]
  },
  {
   "cell_type": "markdown",
   "id": "06860b5b-a17b-44d3-9868-d39139de39bd",
   "metadata": {},
   "source": [
    "Por medio del histograma de la variable \"research\" se observa el comportamiento y distribución de los datos. Es una distribución sesgada a la derecha."
   ]
  },
  {
   "cell_type": "code",
   "execution_count": 7,
   "id": "13f62e0f-35ce-4224-9cda-c0a85e77c79d",
   "metadata": {},
   "outputs": [
    {
     "data": {
      "image/png": "[encoded data removed]",
      "text/plain": [
       "<Figure size 432x288 with 1 Axes>"
      ]
     },
     "metadata": {
      "needs_background": "light"
     },
     "output_type": "display_data"
    }
   ],
   "source": [
    "df['Int Students'].plot(kind = 'hist')\n",
    "plt.title('International Students', fontsize = 16)\n",
    "plt. xticks(fontsize=16, rotation=45)\n",
    "plt.show()"
   ]
  },
  {
   "cell_type": "markdown",
   "id": "5fc5849e-fe61-4e4a-bd8d-7a001950fef6",
   "metadata": {},
   "source": [
    "Por medio del histograma de la variable \"Int Students\" se observa el comportamiento y distribución de los datos. Es una distribución sesgada a la derecha. Se puede concluir que la mayoria de los estudiantes son de su respectivo pais. "
   ]
  },
  {
   "cell_type": "code",
   "execution_count": 8,
   "id": "4bfbc01a-1071-4f6a-aaa8-eecc6a2840b4",
   "metadata": {},
   "outputs": [
    {
     "name": "stdout",
     "output_type": "stream",
     "text": [
      "Requirement already satisfied: seaborn in /srv/conda/envs/notebook/lib/python3.7/site-packages (0.11.2)\n",
      "Requirement already satisfied: pandas>=0.23 in /srv/conda/envs/notebook/lib/python3.7/site-packages (from seaborn) (1.0.4)\n",
      "Requirement already satisfied: numpy>=1.15 in /srv/conda/envs/notebook/lib/python3.7/site-packages (from seaborn) (1.18.5)\n",
      "Requirement already satisfied: scipy>=1.0 in /srv/conda/envs/notebook/lib/python3.7/site-packages (from seaborn) (1.4.1)\n",
      "Requirement already satisfied: matplotlib>=2.2 in /srv/conda/envs/notebook/lib/python3.7/site-packages (from seaborn) (3.2.1)\n",
      "Requirement already satisfied: cycler>=0.10 in /srv/conda/envs/notebook/lib/python3.7/site-packages (from matplotlib>=2.2->seaborn) (0.10.0)\n",
      "Requirement already satisfied: pyparsing!=2.0.4,!=2.1.2,!=2.1.6,>=2.0.1 in /srv/conda/envs/notebook/lib/python3.7/site-packages (from matplotlib>=2.2->seaborn) (2.4.7)\n",
      "Requirement already satisfied: kiwisolver>=1.0.1 in /srv/conda/envs/notebook/lib/python3.7/site-packages (from matplotlib>=2.2->seaborn) (1.2.0)\n",
      "Requirement already satisfied: python-dateutil>=2.1 in /srv/conda/envs/notebook/lib/python3.7/site-packages (from matplotlib>=2.2->seaborn) (2.8.1)\n",
      "Requirement already satisfied: six in /srv/conda/envs/notebook/lib/python3.7/site-packages (from cycler>=0.10->matplotlib>=2.2->seaborn) (1.16.0)\n",
      "Requirement already satisfied: pytz>=2017.2 in /srv/conda/envs/notebook/lib/python3.7/site-packages (from pandas>=0.23->seaborn) (2020.1)\n",
      "Note: you may need to restart the kernel to use updated packages.\n"
     ]
    }
   ],
   "source": [
    "pip install seaborn"
   ]
  },
  {
   "cell_type": "code",
   "execution_count": 9,
   "id": "f1cf6e58-d2e5-4349-acb6-47935e135b25",
   "metadata": {},
   "outputs": [],
   "source": [
    "import seaborn as sns\n",
    "import pandas as pd\n"
   ]
  },
  {
   "cell_type": "code",
   "execution_count": 10,
   "id": "fb9f1f9a-ae70-459d-8afe-5caa08ed38d8",
   "metadata": {},
   "outputs": [
    {
     "data": {
      "image/png": "[encoded data removed]",
      "text/plain": [
       "<Figure size 360x360 with 1 Axes>"
      ]
     },
     "metadata": {
      "needs_background": "light"
     },
     "output_type": "display_data"
    }
   ],
   "source": [
    "sns.lmplot(x='research', y='teaching', data=df,fit_reg=False)\n",
    "plt.title('Diagrama de Correlacion')\n",
    "plt.show()"
   ]
  },
  {
   "cell_type": "markdown",
   "id": "161ad814-4234-4e13-a991-6caec9e5ad07",
   "metadata": {},
   "source": [
    "Se puede concluir que la variable de research y teaching estan correlacionados ya que cuando uno aumenta el otro tambien y viseversa. "
   ]
  },
  {
   "cell_type": "markdown",
   "id": "afd83a6e-60ec-40d7-973e-53aa96267a73",
   "metadata": {},
   "source": [
    "Algunas limitaciones son: \n",
    "- Existen columnas que no tienen datos por lo que afectan al analisis.\n",
    "- La variable de \"world_rank\" esta definida como object lo que no permite que se observe una correlacion con otras variables. \n",
    "- Cada año cuenta con un numero de datos diferente por lo que llega a afectar el analisis."
   ]
  },
  {
   "cell_type": "markdown",
   "id": "61c26ede-f28b-4cd9-b0cc-17e864aa9516",
   "metadata": {},
   "source": [
    "Siguientes pasos: \n",
    "- Hacer una revision de la base de datos para eliminar las filas con datos faltantes y los datos atipicos. \n",
    "- Analizar cada variable por separado por medio de diagramas o histogramas para analizar su comportamiento. "
   ]
  },
  {
   "cell_type": "code",
   "execution_count": null,
   "id": "67cf61e3-ae67-4fad-9921-c8bc022ce453",
   "metadata": {},
   "outputs": [],
   "source": []
  }
 ],
 "metadata": {
  "kernelspec": {
   "display_name": "Python 3 (ipykernel)",
   "language": "python",
   "name": "python3"
  },
  "language_info": {
   "codemirror_mode": {
    "name": "ipython",
    "version": 3
   },
   "file_extension": ".py",
   "mimetype": "text/x-python",
   "name": "python",
   "nbconvert_exporter": "python",
   "pygments_lexer": "ipython3",
   "version": "3.7.10"
  }
 },
 "nbformat": 4,
 "nbformat_minor": 5
}
